{
 "cells": [
  {
   "cell_type": "code",
   "execution_count": null,
   "metadata": {},
   "outputs": [],
   "source": [
    "# path = get_ipython().getouput('jupyter --data-dir')\n",
    "import os\n",
    "\n",
    "path = os.path.join('/home/ephyan/anaconda3/share/jupyter', 'nbextensions/snippets/snippets.json')\n",
    "# print(path)"
   ]
  },
  {
   "cell_type": "code",
   "execution_count": null,
   "metadata": {},
   "outputs": [],
   "source": [
    "import json\n",
    "\n",
    "# with open(path, 'r', encoding='utf-8') as file: \n",
    "#     snips = json.load(file)\n",
    "# with open(path, 'r', encoding='utf-8') as f:\n",
    "#     snips = json.loads(f)\n",
    "# print('original snippets')\n",
    "# print(snips)\n",
    "\n",
    "file = open(path,\"r\",encoding=\"utf-8\")\n",
    "snips = json.load(file)\n",
    "print(\"original snips:\")\n",
    "print(snips)"
   ]
  },
  {
   "cell_type": "code",
   "execution_count": null,
   "metadata": {},
   "outputs": [],
   "source": [
    "snips = {\n",
    "    \"snippets\" : [\n",
    "        {\n",
    "            \"name\" : \"setup_ml_env\",\n",
    "            \"code\" : [\n",
    "                \"# This is a setup snippet!\",\n",
    "                \"from __future__ import print_function, unicode_literals, division\", \n",
    "                \"import numpy as np\",\n",
    "                \"import os\", \n",
    "                \"import warnings\",\n",
    "                \"\", \n",
    "                \"warnings.filterwarnings('ignore')\",\n",
    "                \"\",\n",
    "                \"np.random.seed(42)\",\n",
    "                \"%matplotlib inline\",\n",
    "                \"import matplotlib as mpl\",\n",
    "                \"import matplotlib.pyplot as plt\",\n",
    "                \"mpl.rc('axes', labelsize=14)\",\n",
    "                \"mpl.rc('xtick', labelsize=12)\",\n",
    "                \"mpl.rc('ytick', labelsize=12)\",\n",
    "                \"\",\n",
    "                \"# Where to save the figures\",\n",
    "                \"PROJECT_ROOT_DIR = '.'\",\n",
    "                \"CHAPTER_ID = 'ensembles'\",\n",
    "                \"\",\n",
    "                \"def image_path(fig_id):\",\n",
    "                \"    return os.path.join(PROJECT_ROOT_DIR, 'images', CHAPTER_ID, fig_id)\",\n",
    "                \"\",\n",
    "                \"def save_fig(fig_id, tight_layout=True):\",\n",
    "                \"    print('Saving figure', fig_id)\",\n",
    "                \"    if tight_layout:\",\n",
    "                \"        plt.tight_layout()\",\n",
    "                \"    plt.savefig(image_path(fig_id) + '.png', format='png', dpi=300)\",\n",
    "            ]\n",
    "        }\n",
    "    ]\n",
    "}"
   ]
  },
  {
   "cell_type": "code",
   "execution_count": null,
   "metadata": {},
   "outputs": [],
   "source": [
    "model = snips\n",
    "with open(path, 'w', encoding='utf-8') as json_file:\n",
    "    json.dump(model, json_file, ensure_ascii=False)"
   ]
  },
  {
   "cell_type": "code",
   "execution_count": null,
   "metadata": {},
   "outputs": [],
   "source": []
  }
 ],
 "metadata": {
  "kernelspec": {
   "display_name": "Python 3",
   "language": "python",
   "name": "python3"
  },
  "language_info": {
   "codemirror_mode": {
    "name": "ipython",
    "version": 3
   },
   "file_extension": ".py",
   "mimetype": "text/x-python",
   "name": "python",
   "nbconvert_exporter": "python",
   "pygments_lexer": "ipython3",
   "version": "3.7.3"
  },
  "toc": {
   "base_numbering": 1,
   "nav_menu": {},
   "number_sections": true,
   "sideBar": true,
   "skip_h1_title": false,
   "title_cell": "Table of Contents",
   "title_sidebar": "Contents",
   "toc_cell": false,
   "toc_position": {},
   "toc_section_display": true,
   "toc_window_display": false
  },
  "varInspector": {
   "cols": {
    "lenName": 16,
    "lenType": 16,
    "lenVar": 40
   },
   "kernels_config": {
    "python": {
     "delete_cmd_postfix": "",
     "delete_cmd_prefix": "del ",
     "library": "var_list.py",
     "varRefreshCmd": "print(var_dic_list())"
    },
    "r": {
     "delete_cmd_postfix": ") ",
     "delete_cmd_prefix": "rm(",
     "library": "var_list.r",
     "varRefreshCmd": "cat(var_dic_list()) "
    }
   },
   "types_to_exclude": [
    "module",
    "function",
    "builtin_function_or_method",
    "instance",
    "_Feature"
   ],
   "window_display": false
  }
 },
 "nbformat": 4,
 "nbformat_minor": 2
}
